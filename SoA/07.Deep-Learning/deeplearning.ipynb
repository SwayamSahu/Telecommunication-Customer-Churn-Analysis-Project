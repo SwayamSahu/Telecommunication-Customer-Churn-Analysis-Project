{
 "cells": [
  {
   "cell_type": "code",
   "execution_count": 1,
   "metadata": {},
   "outputs": [],
   "source": [
    "import numpy as np\n",
    "import pandas as pd\n",
    "from sklearn.model_selection import train_test_split\n",
    "from sklearn.preprocessing import LabelEncoder, StandardScaler\n",
    "from keras.models import Sequential\n",
    "from keras.layers import Dense\n",
    "from keras.utils import to_categorical\n",
    "\n",
    "# Load the Iris dataset\n",
    "url = \"https://archive.ics.uci.edu/ml/machine-learning-databases/iris/iris.data\"\n",
    "columns = ['sepal_length', 'sepal_width', 'petal_length', 'petal_width', 'species']\n",
    "iris_data = pd.read_csv(url, names=columns)\n",
    "\n",
    "# Separate features and labels\n",
    "X = iris_data.drop('species', axis=1)\n",
    "y = iris_data['species']\n",
    "\n",
    "# Encode the class labels into numeric values\n",
    "label_encoder = LabelEncoder()\n",
    "y_encoded = label_encoder.fit_transform(y)\n",
    "num_classes = len(label_encoder.classes_)\n",
    "\n",
    "# Split the dataset into training and testing sets\n",
    "X_train, X_test, y_train, y_test = train_test_split(X, y_encoded, test_size=0.2, random_state=42)\n",
    "\n",
    "# Standardize the features for better training performance\n",
    "scaler = StandardScaler()\n",
    "X_train_scaled = scaler.fit_transform(X_train)\n",
    "X_test_scaled = scaler.transform(X_test)\n",
    "\n",
    "# One-hot encode the target variable\n",
    "y_train_categorical = to_categorical(y_train, num_classes=num_classes)\n",
    "y_test_categorical = to_categorical(y_test, num_classes=num_classes)\n",
    "\n"
   ]
  },
  {
   "cell_type": "code",
   "execution_count": 6,
   "metadata": {},
   "outputs": [
    {
     "data": {
      "text/plain": [
       "(150, 4)"
      ]
     },
     "execution_count": 6,
     "metadata": {},
     "output_type": "execute_result"
    }
   ],
   "source": [
    "X.shape"
   ]
  },
  {
   "cell_type": "code",
   "execution_count": 7,
   "metadata": {},
   "outputs": [
    {
     "data": {
      "text/plain": [
       "(30, 4)"
      ]
     },
     "execution_count": 7,
     "metadata": {},
     "output_type": "execute_result"
    }
   ],
   "source": [
    "X_test.shape"
   ]
  },
  {
   "cell_type": "code",
   "execution_count": 2,
   "metadata": {},
   "outputs": [
    {
     "name": "stdout",
     "output_type": "stream",
     "text": [
      "Model: \"sequential\"\n",
      "_________________________________________________________________\n",
      " Layer (type)                Output Shape              Param #   \n",
      "=================================================================\n",
      " dense (Dense)               (None, 64)                320       \n",
      "                                                                 \n",
      " dense_1 (Dense)             (None, 32)                2080      \n",
      "                                                                 \n",
      " dense_2 (Dense)             (None, 3)                 99        \n",
      "                                                                 \n",
      "=================================================================\n",
      "Total params: 2,499\n",
      "Trainable params: 2,499\n",
      "Non-trainable params: 0\n",
      "_________________________________________________________________\n"
     ]
    }
   ],
   "source": [
    "# Create the deep learning model\n",
    "model = Sequential()\n",
    "model.add(Dense(64, activation='relu', input_shape=(4,)))\n",
    "model.add(Dense(32, activation='relu'))\n",
    "model.add(Dense(num_classes, activation='softmax'))\n",
    "\n",
    "# Compile the model\n",
    "model.compile(optimizer='adam', loss='categorical_crossentropy', metrics=['accuracy'])\n",
    "\n",
    "# Print the model summary\n",
    "model.summary()"
   ]
  },
  {
   "cell_type": "code",
   "execution_count": 3,
   "metadata": {},
   "outputs": [
    {
     "name": "stdout",
     "output_type": "stream",
     "text": [
      "Epoch 1/100\n",
      "4/4 [==============================] - 2s 117ms/step - loss: 1.1410 - accuracy: 0.2500 - val_loss: 1.1058 - val_accuracy: 0.2500\n",
      "Epoch 2/100\n",
      "4/4 [==============================] - 0s 21ms/step - loss: 1.0350 - accuracy: 0.5000 - val_loss: 1.0351 - val_accuracy: 0.5000\n",
      "Epoch 3/100\n",
      "4/4 [==============================] - 0s 23ms/step - loss: 0.9537 - accuracy: 0.7130 - val_loss: 0.9723 - val_accuracy: 0.5000\n",
      "Epoch 4/100\n",
      "4/4 [==============================] - 0s 30ms/step - loss: 0.8754 - accuracy: 0.7963 - val_loss: 0.9162 - val_accuracy: 0.5000\n",
      "Epoch 5/100\n",
      "4/4 [==============================] - 0s 30ms/step - loss: 0.8115 - accuracy: 0.8056 - val_loss: 0.8679 - val_accuracy: 0.6667\n",
      "Epoch 6/100\n",
      "4/4 [==============================] - 0s 32ms/step - loss: 0.7509 - accuracy: 0.8241 - val_loss: 0.8241 - val_accuracy: 0.6667\n",
      "Epoch 7/100\n",
      "4/4 [==============================] - 0s 28ms/step - loss: 0.6950 - accuracy: 0.8333 - val_loss: 0.7845 - val_accuracy: 0.6667\n",
      "Epoch 8/100\n",
      "4/4 [==============================] - 0s 29ms/step - loss: 0.6443 - accuracy: 0.8333 - val_loss: 0.7493 - val_accuracy: 0.6667\n",
      "Epoch 9/100\n",
      "4/4 [==============================] - 0s 17ms/step - loss: 0.5968 - accuracy: 0.8333 - val_loss: 0.7176 - val_accuracy: 0.7500\n",
      "Epoch 10/100\n",
      "4/4 [==============================] - 0s 32ms/step - loss: 0.5564 - accuracy: 0.8241 - val_loss: 0.6900 - val_accuracy: 0.7500\n",
      "Epoch 11/100\n",
      "4/4 [==============================] - 0s 28ms/step - loss: 0.5198 - accuracy: 0.8241 - val_loss: 0.6667 - val_accuracy: 0.7500\n",
      "Epoch 12/100\n",
      "4/4 [==============================] - 0s 31ms/step - loss: 0.4858 - accuracy: 0.8333 - val_loss: 0.6480 - val_accuracy: 0.8333\n",
      "Epoch 13/100\n",
      "4/4 [==============================] - 0s 31ms/step - loss: 0.4560 - accuracy: 0.8333 - val_loss: 0.6305 - val_accuracy: 0.8333\n",
      "Epoch 14/100\n",
      "4/4 [==============================] - 0s 33ms/step - loss: 0.4299 - accuracy: 0.8333 - val_loss: 0.6150 - val_accuracy: 0.8333\n",
      "Epoch 15/100\n",
      "4/4 [==============================] - 0s 24ms/step - loss: 0.4062 - accuracy: 0.8333 - val_loss: 0.6027 - val_accuracy: 0.8333\n",
      "Epoch 16/100\n",
      "4/4 [==============================] - 0s 29ms/step - loss: 0.3864 - accuracy: 0.8241 - val_loss: 0.5913 - val_accuracy: 0.8333\n",
      "Epoch 17/100\n",
      "4/4 [==============================] - 0s 26ms/step - loss: 0.3693 - accuracy: 0.8241 - val_loss: 0.5799 - val_accuracy: 0.8333\n",
      "Epoch 18/100\n",
      "4/4 [==============================] - 0s 28ms/step - loss: 0.3543 - accuracy: 0.8333 - val_loss: 0.5691 - val_accuracy: 0.8333\n",
      "Epoch 19/100\n",
      "4/4 [==============================] - 0s 32ms/step - loss: 0.3408 - accuracy: 0.8333 - val_loss: 0.5582 - val_accuracy: 0.8333\n",
      "Epoch 20/100\n",
      "4/4 [==============================] - 0s 30ms/step - loss: 0.3293 - accuracy: 0.8333 - val_loss: 0.5488 - val_accuracy: 0.8333\n",
      "Epoch 21/100\n",
      "4/4 [==============================] - 0s 30ms/step - loss: 0.3184 - accuracy: 0.8333 - val_loss: 0.5381 - val_accuracy: 0.8333\n",
      "Epoch 22/100\n",
      "4/4 [==============================] - 0s 30ms/step - loss: 0.3080 - accuracy: 0.8519 - val_loss: 0.5279 - val_accuracy: 0.8333\n",
      "Epoch 23/100\n",
      "4/4 [==============================] - 0s 31ms/step - loss: 0.2991 - accuracy: 0.8519 - val_loss: 0.5194 - val_accuracy: 0.8333\n",
      "Epoch 24/100\n",
      "4/4 [==============================] - 0s 31ms/step - loss: 0.2905 - accuracy: 0.8519 - val_loss: 0.5151 - val_accuracy: 0.9167\n",
      "Epoch 25/100\n",
      "4/4 [==============================] - 0s 26ms/step - loss: 0.2825 - accuracy: 0.8519 - val_loss: 0.5126 - val_accuracy: 0.9167\n",
      "Epoch 26/100\n",
      "4/4 [==============================] - 0s 21ms/step - loss: 0.2749 - accuracy: 0.8519 - val_loss: 0.5077 - val_accuracy: 0.9167\n",
      "Epoch 27/100\n",
      "4/4 [==============================] - 0s 28ms/step - loss: 0.2675 - accuracy: 0.8889 - val_loss: 0.4940 - val_accuracy: 0.9167\n",
      "Epoch 28/100\n",
      "4/4 [==============================] - 0s 27ms/step - loss: 0.2601 - accuracy: 0.8796 - val_loss: 0.4814 - val_accuracy: 0.9167\n",
      "Epoch 29/100\n",
      "4/4 [==============================] - 0s 25ms/step - loss: 0.2548 - accuracy: 0.8796 - val_loss: 0.4778 - val_accuracy: 0.9167\n",
      "Epoch 30/100\n",
      "4/4 [==============================] - 0s 36ms/step - loss: 0.2480 - accuracy: 0.8889 - val_loss: 0.4709 - val_accuracy: 0.9167\n",
      "Epoch 31/100\n",
      "4/4 [==============================] - 0s 30ms/step - loss: 0.2405 - accuracy: 0.8981 - val_loss: 0.4694 - val_accuracy: 0.9167\n",
      "Epoch 32/100\n",
      "4/4 [==============================] - 0s 26ms/step - loss: 0.2342 - accuracy: 0.8981 - val_loss: 0.4692 - val_accuracy: 0.9167\n",
      "Epoch 33/100\n",
      "4/4 [==============================] - 0s 34ms/step - loss: 0.2279 - accuracy: 0.9074 - val_loss: 0.4681 - val_accuracy: 0.9167\n",
      "Epoch 34/100\n",
      "4/4 [==============================] - 0s 31ms/step - loss: 0.2224 - accuracy: 0.9167 - val_loss: 0.4627 - val_accuracy: 0.9167\n",
      "Epoch 35/100\n",
      "4/4 [==============================] - 0s 28ms/step - loss: 0.2163 - accuracy: 0.9444 - val_loss: 0.4544 - val_accuracy: 0.9167\n",
      "Epoch 36/100\n",
      "4/4 [==============================] - 0s 25ms/step - loss: 0.2107 - accuracy: 0.9259 - val_loss: 0.4420 - val_accuracy: 0.9167\n",
      "Epoch 37/100\n",
      "4/4 [==============================] - 0s 30ms/step - loss: 0.2040 - accuracy: 0.9352 - val_loss: 0.4355 - val_accuracy: 0.9167\n",
      "Epoch 38/100\n",
      "4/4 [==============================] - 0s 29ms/step - loss: 0.1992 - accuracy: 0.9352 - val_loss: 0.4269 - val_accuracy: 0.9167\n",
      "Epoch 39/100\n",
      "4/4 [==============================] - 0s 32ms/step - loss: 0.1937 - accuracy: 0.9352 - val_loss: 0.4209 - val_accuracy: 0.9167\n",
      "Epoch 40/100\n",
      "4/4 [==============================] - 0s 28ms/step - loss: 0.1887 - accuracy: 0.9444 - val_loss: 0.4208 - val_accuracy: 0.9167\n",
      "Epoch 41/100\n",
      "4/4 [==============================] - 0s 32ms/step - loss: 0.1826 - accuracy: 0.9444 - val_loss: 0.4251 - val_accuracy: 0.9167\n",
      "Epoch 42/100\n",
      "4/4 [==============================] - 0s 24ms/step - loss: 0.1776 - accuracy: 0.9630 - val_loss: 0.4318 - val_accuracy: 0.9167\n",
      "Epoch 43/100\n",
      "4/4 [==============================] - 0s 24ms/step - loss: 0.1726 - accuracy: 0.9630 - val_loss: 0.4318 - val_accuracy: 0.9167\n",
      "Epoch 44/100\n",
      "4/4 [==============================] - 0s 30ms/step - loss: 0.1678 - accuracy: 0.9630 - val_loss: 0.4265 - val_accuracy: 0.9167\n",
      "Epoch 45/100\n",
      "4/4 [==============================] - 0s 27ms/step - loss: 0.1624 - accuracy: 0.9630 - val_loss: 0.4141 - val_accuracy: 0.9167\n",
      "Epoch 46/100\n",
      "4/4 [==============================] - 0s 25ms/step - loss: 0.1574 - accuracy: 0.9630 - val_loss: 0.4082 - val_accuracy: 0.9167\n",
      "Epoch 47/100\n",
      "4/4 [==============================] - 0s 25ms/step - loss: 0.1523 - accuracy: 0.9537 - val_loss: 0.4035 - val_accuracy: 0.9167\n",
      "Epoch 48/100\n",
      "4/4 [==============================] - 0s 21ms/step - loss: 0.1469 - accuracy: 0.9537 - val_loss: 0.4067 - val_accuracy: 0.9167\n",
      "Epoch 49/100\n",
      "4/4 [==============================] - 0s 22ms/step - loss: 0.1410 - accuracy: 0.9630 - val_loss: 0.4094 - val_accuracy: 0.9167\n",
      "Epoch 50/100\n",
      "4/4 [==============================] - 0s 20ms/step - loss: 0.1360 - accuracy: 0.9630 - val_loss: 0.4102 - val_accuracy: 0.9167\n",
      "Epoch 51/100\n",
      "4/4 [==============================] - 0s 22ms/step - loss: 0.1324 - accuracy: 0.9630 - val_loss: 0.4071 - val_accuracy: 0.9167\n",
      "Epoch 52/100\n",
      "4/4 [==============================] - 0s 18ms/step - loss: 0.1276 - accuracy: 0.9722 - val_loss: 0.4222 - val_accuracy: 0.9167\n",
      "Epoch 53/100\n",
      "4/4 [==============================] - 0s 20ms/step - loss: 0.1252 - accuracy: 0.9722 - val_loss: 0.4157 - val_accuracy: 0.9167\n",
      "Epoch 54/100\n",
      "4/4 [==============================] - 0s 18ms/step - loss: 0.1209 - accuracy: 0.9722 - val_loss: 0.4129 - val_accuracy: 0.9167\n",
      "Epoch 55/100\n",
      "4/4 [==============================] - 0s 17ms/step - loss: 0.1176 - accuracy: 0.9722 - val_loss: 0.4078 - val_accuracy: 0.9167\n",
      "Epoch 56/100\n",
      "4/4 [==============================] - 0s 19ms/step - loss: 0.1147 - accuracy: 0.9630 - val_loss: 0.3882 - val_accuracy: 0.9167\n",
      "Epoch 57/100\n",
      "4/4 [==============================] - 0s 19ms/step - loss: 0.1111 - accuracy: 0.9722 - val_loss: 0.3702 - val_accuracy: 0.9167\n",
      "Epoch 58/100\n",
      "4/4 [==============================] - 0s 20ms/step - loss: 0.1097 - accuracy: 0.9722 - val_loss: 0.3624 - val_accuracy: 0.9167\n",
      "Epoch 59/100\n",
      "4/4 [==============================] - 0s 24ms/step - loss: 0.1072 - accuracy: 0.9722 - val_loss: 0.3596 - val_accuracy: 0.9167\n",
      "Epoch 60/100\n",
      "4/4 [==============================] - 0s 24ms/step - loss: 0.1038 - accuracy: 0.9722 - val_loss: 0.3585 - val_accuracy: 0.9167\n",
      "Epoch 61/100\n",
      "4/4 [==============================] - 0s 22ms/step - loss: 0.1013 - accuracy: 0.9722 - val_loss: 0.3607 - val_accuracy: 0.9167\n",
      "Epoch 62/100\n",
      "4/4 [==============================] - 0s 24ms/step - loss: 0.0989 - accuracy: 0.9722 - val_loss: 0.3695 - val_accuracy: 0.9167\n",
      "Epoch 63/100\n",
      "4/4 [==============================] - 0s 23ms/step - loss: 0.0975 - accuracy: 0.9722 - val_loss: 0.3738 - val_accuracy: 0.9167\n",
      "Epoch 64/100\n",
      "4/4 [==============================] - 0s 24ms/step - loss: 0.0958 - accuracy: 0.9722 - val_loss: 0.3674 - val_accuracy: 0.9167\n",
      "Epoch 65/100\n",
      "4/4 [==============================] - 0s 22ms/step - loss: 0.0934 - accuracy: 0.9722 - val_loss: 0.3624 - val_accuracy: 0.9167\n",
      "Epoch 66/100\n",
      "4/4 [==============================] - 0s 22ms/step - loss: 0.0919 - accuracy: 0.9722 - val_loss: 0.3628 - val_accuracy: 0.9167\n",
      "Epoch 67/100\n",
      "4/4 [==============================] - 0s 25ms/step - loss: 0.0905 - accuracy: 0.9722 - val_loss: 0.3568 - val_accuracy: 0.9167\n",
      "Epoch 68/100\n",
      "4/4 [==============================] - 0s 24ms/step - loss: 0.0898 - accuracy: 0.9722 - val_loss: 0.3588 - val_accuracy: 0.9167\n",
      "Epoch 69/100\n",
      "4/4 [==============================] - 0s 28ms/step - loss: 0.0882 - accuracy: 0.9722 - val_loss: 0.3562 - val_accuracy: 0.9167\n",
      "Epoch 70/100\n",
      "4/4 [==============================] - 0s 29ms/step - loss: 0.0870 - accuracy: 0.9722 - val_loss: 0.3681 - val_accuracy: 0.9167\n",
      "Epoch 71/100\n",
      "4/4 [==============================] - 0s 24ms/step - loss: 0.0852 - accuracy: 0.9722 - val_loss: 0.3714 - val_accuracy: 0.9167\n",
      "Epoch 72/100\n",
      "4/4 [==============================] - 0s 26ms/step - loss: 0.0828 - accuracy: 0.9722 - val_loss: 0.3861 - val_accuracy: 0.9167\n",
      "Epoch 73/100\n",
      "4/4 [==============================] - 0s 19ms/step - loss: 0.0823 - accuracy: 0.9722 - val_loss: 0.3915 - val_accuracy: 0.9167\n",
      "Epoch 74/100\n",
      "4/4 [==============================] - 0s 19ms/step - loss: 0.0811 - accuracy: 0.9722 - val_loss: 0.3893 - val_accuracy: 0.9167\n",
      "Epoch 75/100\n",
      "4/4 [==============================] - 0s 21ms/step - loss: 0.0793 - accuracy: 0.9722 - val_loss: 0.3814 - val_accuracy: 0.9167\n",
      "Epoch 76/100\n",
      "4/4 [==============================] - 0s 22ms/step - loss: 0.0782 - accuracy: 0.9722 - val_loss: 0.3743 - val_accuracy: 0.9167\n",
      "Epoch 77/100\n",
      "4/4 [==============================] - 0s 22ms/step - loss: 0.0772 - accuracy: 0.9722 - val_loss: 0.3743 - val_accuracy: 0.9167\n",
      "Epoch 78/100\n",
      "4/4 [==============================] - 0s 23ms/step - loss: 0.0769 - accuracy: 0.9722 - val_loss: 0.3837 - val_accuracy: 0.9167\n",
      "Epoch 79/100\n",
      "4/4 [==============================] - 0s 26ms/step - loss: 0.0765 - accuracy: 0.9722 - val_loss: 0.3929 - val_accuracy: 0.9167\n",
      "Epoch 80/100\n",
      "4/4 [==============================] - 0s 29ms/step - loss: 0.0742 - accuracy: 0.9722 - val_loss: 0.3819 - val_accuracy: 0.9167\n",
      "Epoch 81/100\n",
      "4/4 [==============================] - 0s 27ms/step - loss: 0.0738 - accuracy: 0.9722 - val_loss: 0.3687 - val_accuracy: 0.9167\n",
      "Epoch 82/100\n",
      "4/4 [==============================] - 0s 31ms/step - loss: 0.0733 - accuracy: 0.9722 - val_loss: 0.3696 - val_accuracy: 0.9167\n",
      "Epoch 83/100\n",
      "4/4 [==============================] - 0s 28ms/step - loss: 0.0721 - accuracy: 0.9722 - val_loss: 0.3790 - val_accuracy: 0.9167\n",
      "Epoch 84/100\n",
      "4/4 [==============================] - 0s 36ms/step - loss: 0.0709 - accuracy: 0.9722 - val_loss: 0.3969 - val_accuracy: 0.9167\n",
      "Epoch 85/100\n",
      "4/4 [==============================] - 0s 41ms/step - loss: 0.0701 - accuracy: 0.9722 - val_loss: 0.4030 - val_accuracy: 0.9167\n",
      "Epoch 86/100\n",
      "4/4 [==============================] - 0s 27ms/step - loss: 0.0696 - accuracy: 0.9722 - val_loss: 0.4070 - val_accuracy: 0.9167\n",
      "Epoch 87/100\n",
      "4/4 [==============================] - 0s 31ms/step - loss: 0.0690 - accuracy: 0.9722 - val_loss: 0.4177 - val_accuracy: 0.9167\n",
      "Epoch 88/100\n",
      "4/4 [==============================] - 0s 35ms/step - loss: 0.0678 - accuracy: 0.9815 - val_loss: 0.4137 - val_accuracy: 0.9167\n",
      "Epoch 89/100\n",
      "4/4 [==============================] - 0s 30ms/step - loss: 0.0670 - accuracy: 0.9722 - val_loss: 0.4014 - val_accuracy: 0.9167\n",
      "Epoch 90/100\n",
      "4/4 [==============================] - 0s 30ms/step - loss: 0.0670 - accuracy: 0.9722 - val_loss: 0.3978 - val_accuracy: 0.9167\n",
      "Epoch 91/100\n",
      "4/4 [==============================] - 0s 22ms/step - loss: 0.0661 - accuracy: 0.9722 - val_loss: 0.3973 - val_accuracy: 0.9167\n",
      "Epoch 92/100\n",
      "4/4 [==============================] - 0s 29ms/step - loss: 0.0651 - accuracy: 0.9722 - val_loss: 0.4030 - val_accuracy: 0.9167\n",
      "Epoch 93/100\n",
      "4/4 [==============================] - 0s 28ms/step - loss: 0.0645 - accuracy: 0.9722 - val_loss: 0.4106 - val_accuracy: 0.9167\n",
      "Epoch 94/100\n",
      "4/4 [==============================] - 0s 30ms/step - loss: 0.0634 - accuracy: 0.9815 - val_loss: 0.4329 - val_accuracy: 0.9167\n",
      "Epoch 95/100\n",
      "4/4 [==============================] - 0s 28ms/step - loss: 0.0676 - accuracy: 0.9722 - val_loss: 0.4610 - val_accuracy: 0.9167\n",
      "Epoch 96/100\n",
      "4/4 [==============================] - 0s 25ms/step - loss: 0.0659 - accuracy: 0.9815 - val_loss: 0.4439 - val_accuracy: 0.9167\n",
      "Epoch 97/100\n",
      "4/4 [==============================] - 0s 26ms/step - loss: 0.0626 - accuracy: 0.9722 - val_loss: 0.4377 - val_accuracy: 0.9167\n",
      "Epoch 98/100\n",
      "4/4 [==============================] - 0s 28ms/step - loss: 0.0633 - accuracy: 0.9815 - val_loss: 0.4235 - val_accuracy: 0.9167\n",
      "Epoch 99/100\n",
      "4/4 [==============================] - 0s 30ms/step - loss: 0.0622 - accuracy: 0.9722 - val_loss: 0.4225 - val_accuracy: 0.9167\n",
      "Epoch 100/100\n",
      "4/4 [==============================] - 0s 31ms/step - loss: 0.0620 - accuracy: 0.9722 - val_loss: 0.4144 - val_accuracy: 0.9167\n"
     ]
    },
    {
     "data": {
      "text/plain": [
       "<keras.callbacks.History at 0x1d78973adf0>"
      ]
     },
     "execution_count": 3,
     "metadata": {},
     "output_type": "execute_result"
    }
   ],
   "source": [
    "# Train the model\n",
    "epochs = 100\n",
    "batch_size = 32\n",
    "\n",
    "model.fit(X_train_scaled, y_train_categorical, epochs=epochs, batch_size=batch_size, validation_split=0.1)"
   ]
  },
  {
   "cell_type": "code",
   "execution_count": 4,
   "metadata": {},
   "outputs": [
    {
     "name": "stdout",
     "output_type": "stream",
     "text": [
      "1/1 [==============================] - 0s 100ms/step - loss: 0.0422 - accuracy: 1.0000\n",
      "Test Loss: 0.0422\n",
      "Test Accuracy: 1.0000\n"
     ]
    }
   ],
   "source": [
    "# Evaluate the model on the test data\n",
    "loss, accuracy = model.evaluate(X_test_scaled, y_test_categorical)\n",
    "\n",
    "print(f'Test Loss: {loss:.4f}')\n",
    "print(f'Test Accuracy: {accuracy:.4f}')"
   ]
  },
  {
   "cell_type": "code",
   "execution_count": 5,
   "metadata": {},
   "outputs": [
    {
     "name": "stdout",
     "output_type": "stream",
     "text": [
      "1/1 [==============================] - 0s 128ms/step\n"
     ]
    },
    {
     "data": {
      "image/png": "[encoded data removed]",
      "text/plain": [
       "<Figure size 800x600 with 2 Axes>"
      ]
     },
     "metadata": {},
     "output_type": "display_data"
    }
   ],
   "source": [
    "from sklearn.metrics import confusion_matrix\n",
    "import matplotlib.pyplot as plt\n",
    "import seaborn as sns\n",
    "\n",
    "# Get the model predictions on the test data\n",
    "y_pred_categorical = model.predict(X_test_scaled)\n",
    "\n",
    "# Convert the categorical predictions back to class labels\n",
    "y_pred_labels = np.argmax(y_pred_categorical, axis=1)\n",
    "y_true_labels = np.argmax(y_test_categorical, axis=1)\n",
    "\n",
    "# Create the confusion matrix\n",
    "cm = confusion_matrix(y_true_labels, y_pred_labels)\n",
    "\n",
    "# Get the class labels from the label encoder\n",
    "class_labels = label_encoder.classes_\n",
    "\n",
    "# Plot the confusion matrix\n",
    "plt.figure(figsize=(8, 6))\n",
    "sns.heatmap(cm, annot=True, fmt='d', cmap='Blues', xticklabels=class_labels, yticklabels=class_labels)\n",
    "plt.xlabel('Predicted Label')\n",
    "plt.ylabel('True Label')\n",
    "plt.title('Confusion Matrix')\n",
    "plt.show()\n"
   ]
  },
  {
   "cell_type": "code",
   "execution_count": null,
   "metadata": {},
   "outputs": [],
   "source": []
  }
 ],
 "metadata": {
  "kernelspec": {
   "display_name": "base",
   "language": "python",
   "name": "python3"
  },
  "language_info": {
   "codemirror_mode": {
    "name": "ipython",
    "version": 3
   },
   "file_extension": ".py",
   "mimetype": "text/x-python",
   "name": "python",
   "nbconvert_exporter": "python",
   "pygments_lexer": "ipython3",
   "version": "3.9.13"
  },
  "orig_nbformat": 4
 },
 "nbformat": 4,
 "nbformat_minor": 2
}
