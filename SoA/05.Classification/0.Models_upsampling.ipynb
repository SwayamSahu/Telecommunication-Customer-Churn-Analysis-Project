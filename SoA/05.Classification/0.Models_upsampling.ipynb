{
 "cells": [
  {
   "cell_type": "code",
   "execution_count": null,
   "id": "fc5270c5",
   "metadata": {},
   "outputs": [],
   "source": [
    "import pandas as pd\n",
    "import numpy as np\n",
    "import glob\n",
    "import os\n",
    "import seaborn as sns\n",
    "import matplotlib.pyplot as plt \n",
    "plt.rc(\"font\", size=14)\n",
    "from sklearn.model_selection import train_test_split\n",
    "from imblearn.over_sampling import SMOTE\n",
    "from xgboost import XGBClassifier\n",
    "from sklearn import metrics\n",
    "from statsmodels.stats.outliers_influence import variance_inflation_factor\n",
    "from sklearn.metrics import accuracy_score, classification_report\n",
    "pd.set_option('display.max_columns', None)\n",
    "pd.set_option('display.float_format', lambda x: '%.3f' % x)\n",
    "os.chdir('/Sandbox/Churn_30_days_prepaid')"
   ]
  },
  {
   "cell_type": "code",
   "execution_count": null,
   "id": "22385e49",
   "metadata": {},
   "outputs": [],
   "source": [
    "#importing data\n",
    "df01=pd.read_csv('/Sandbox/Churn_30_days_prepaid/datasets/Churn_30_days_20230424.csv')"
   ]
  },
  {
   "cell_type": "code",
   "execution_count": null,
   "id": "db88c7e6",
   "metadata": {},
   "outputs": [],
   "source": [
    "#handeling catagorical variables\n",
    "df01['handset_category']=df01['handset_category'].map({'3g':1, 'no_smartphone':0, '4g':1,'0':0, '5g':1, 'unknown':0})\n",
    "df01['site_type']=df01['site_type'].map({'2G+4G':1, '2G':0, '4G':1,'unknown':0})"
   ]
  },
  {
   "cell_type": "code",
   "execution_count": null,
   "id": "1b39243d",
   "metadata": {},
   "outputs": [],
   "source": [
    "#dropping noninportant attributes\n",
    "df01 = df01.drop(['inc', 'LAST_CALL_DATE', 'CUSTYPE', 'activation_date'], axis=1)"
   ]
  },
  {
   "cell_type": "code",
   "execution_count": null,
   "id": "524a7a86",
   "metadata": {},
   "outputs": [],
   "source": [
    "#adding column => 'is_mulitsim'\n",
    "df01['is_multisim']=df01['sim_number'].map({1.000:0, 2.000:1, 3.000:1, 4.000:1})"
   ]
  },
  {
   "cell_type": "code",
   "execution_count": null,
   "id": "6f7773ca",
   "metadata": {},
   "outputs": [],
   "source": [
    "#handling null values\n",
    "df01['is_multisim'] = df01['is_multisim'].fillna(0)\n",
    "df01['days_since_last_recharge'] = df01['days_since_last_recharge'].fillna(91)\n",
    "df01['Days_of_silence'] = df01['Days_of_silence'].fillna(df01['Days_of_silence'].mean())\n",
    "df01['days_of_rec'] = df01['days_of_rec'].fillna(0)\n",
    "df01['AON'] = df01['AON'].fillna(df01['AON'].mean())"
   ]
  },
  {
   "cell_type": "code",
   "execution_count": null,
   "id": "c541ee41",
   "metadata": {},
   "outputs": [],
   "source": [
    "# checking correlation with churn_flag\n",
    "rr = df01.corr()\n",
    "sorted_corrs = rr['churn_flag'].abs().sort_values(ascending = False)\n",
    "print(sorted_corrs)"
   ]
  },
  {
   "cell_type": "code",
   "execution_count": null,
   "id": "efffef16",
   "metadata": {},
   "outputs": [],
   "source": [
    "#dropping attributes with low correlation\n",
    "df01 = df01.drop(['sim_number',\n",
    "                  'sms_revenue',\n",
    "                  'site_type',\n",
    "                  'REV_SMS_A2A_RENT',\n",
    "                  'REV_SMS_A2A_APP',\n",
    "                  'REV_SMS_A2A',\n",
    "                  'device_change_count',\n",
    "                  'REV_SMS_A2O_IDD',\n",
    "                  'REV_SMS_A2O',\n",
    "                  'REV_SMS_A2O_RENT',\n",
    "                  'IDD_IC_MoU',\n",
    "                  'IDD_OG_MoU'], axis=1)"
   ]
  },
  {
   "cell_type": "code",
   "execution_count": null,
   "id": "2c7bab43",
   "metadata": {},
   "outputs": [],
   "source": [
    "# defining dependent and independent variables\n",
    "y = df01['churn_flag']\n",
    "X = df01.copy()\n",
    "X = X.drop(['msisdn', 'churn_flag'], axis=1)"
   ]
  },
  {
   "cell_type": "code",
   "execution_count": null,
   "id": "8eca8c62",
   "metadata": {},
   "outputs": [],
   "source": [
    "#checking variance infalation factor\n",
    "def calc_VIF(X):\n",
    "    vif = pd.DataFrame()\n",
    "    vif['variables']=X.columns\n",
    "    vif[\"VIF\"]=[variance_inflation_factor(X.values,i) for i in range(X.shape[1])]\n",
    "    return(vif)\n",
    "calc_VIF(X)"
   ]
  },
  {
   "cell_type": "code",
   "execution_count": null,
   "id": "1279ce7a",
   "metadata": {},
   "outputs": [],
   "source": [
    "# Droping attributes with high VIF\n",
    "X = X.drop(['rc_value',\n",
    "           'tot_rev',\n",
    "           'account_state',\n",
    "           'days_of_rec'], axis=1)"
   ]
  },
  {
   "cell_type": "code",
   "execution_count": null,
   "id": "f13b7aae",
   "metadata": {},
   "outputs": [],
   "source": [
    "# again checking variance infalation factor\n",
    "def calc_VIF(X):\n",
    "    vif = pd.DataFrame()\n",
    "    vif['variables']=X.columns\n",
    "    vif[\"VIF\"]=[variance_inflation_factor(X.values,i) for i in range(X.shape[1])]\n",
    "    return(vif)\n",
    "calc_VIF(X)"
   ]
  },
  {
   "cell_type": "code",
   "execution_count": null,
   "id": "5ed8a05a",
   "metadata": {},
   "outputs": [],
   "source": [
    "y.value_counts()"
   ]
  },
  {
   "cell_type": "code",
   "execution_count": null,
   "id": "399c933a",
   "metadata": {},
   "outputs": [],
   "source": [
    "#spliting training and testing dataset (X_test1, y_test1 will be used for validation)\n",
    "X_1, X_test1, y_1, y_test1 = train_test_split(X, y,stratify=y, test_size=0.2)"
   ]
  },
  {
   "cell_type": "code",
   "execution_count": null,
   "id": "a59a3a6a",
   "metadata": {},
   "outputs": [],
   "source": [
    "#upsampling the dataset\n",
    "oversample = SMOTE()\n",
    "X_up, y_up = oversample.fit_resample(X_1, y_1)"
   ]
  },
  {
   "cell_type": "code",
   "execution_count": null,
   "id": "e785b4e6",
   "metadata": {},
   "outputs": [],
   "source": [
    "#checking if data balanced or not\n",
    "y_up.value_counts()"
   ]
  },
  {
   "cell_type": "code",
   "execution_count": null,
   "id": "c7cf3cb4",
   "metadata": {},
   "outputs": [],
   "source": [
    "#splitting upsampled dadaset\n",
    "X_train_up, X_test_up, y_train_up, y_test_up = train_test_split(X_up, y_up, stratify=y_up, test_size=0.2, random_state=42)"
   ]
  },
  {
   "cell_type": "code",
   "execution_count": null,
   "id": "36827df9",
   "metadata": {},
   "outputs": [],
   "source": [
    "# XG boost\n",
    "clf = XGBClassifier(\n",
    " learning_rate =0.05,\n",
    " n_estimators=1000,\n",
    " max_depth=5,\n",
    " min_child_weight=1,\n",
    " gamma=0,\n",
    " subsample=0.8,\n",
    " colsample_bytree=0.8,\n",
    " objective= 'binary:logistic',\n",
    " nthread=4,\n",
    " scale_pos_weight=1,\n",
    " seed=27, random_state=42)\n",
    "\n",
    "\n",
    "xgb=clf.fit(X_train_up,y_train_up)\n",
    "\n",
    "\n",
    "prediction_xgb=xgb.predict(X_test_up)\n",
    "print(metrics.classification_report(y_test_up, prediction_xgb))"
   ]
  },
  {
   "cell_type": "code",
   "execution_count": null,
   "id": "86381ac2",
   "metadata": {},
   "outputs": [],
   "source": [
    "xgb_prediction03=xgb.predict(X_test1)\n",
    "print(metrics.classification_report(y_test1, xgb_prediction03))"
   ]
  },
  {
   "cell_type": "code",
   "execution_count": null,
   "id": "1c03dc36",
   "metadata": {},
   "outputs": [],
   "source": [
    "#dt=DecisionTreeClassifier(min_samples_split = 10,min_samples_leaf=15,max_features='sqrt',\n",
    "#                                max_depth=45,random_state=45)    \n",
    "\n",
    "# rf=RandomForestClassifier(n_estimators=100,max_depth=26,max_features='sqrt',min_samples_split =20\n",
    "#                                      ,min_samples_leaf=20,bootstrap=True,random_state=145)\n",
    "#lr=LogisticRegression(random_state=seed)\n",
    "#sgd = SGDClassifier()"
   ]
  },
  {
   "cell_type": "code",
   "execution_count": null,
   "id": "01ef6d3e",
   "metadata": {},
   "outputs": [],
   "source": [
    "# Training Random Forest Models\n",
    "from sklearn.ensemble import RandomForestClassifier\n",
    "clf=RandomForestClassifier(n_estimators=500,max_depth=45,max_features='sqrt',min_samples_split =10,min_samples_leaf=10,bootstrap=True,random_state=45)\n",
    "rf2=clf.fit(X_train_up,y_train_up)\n",
    "\n",
    "prediction=rf2.predict(X_test_up)\n",
    "#Measuring accuracy on Testing Data\n",
    "print(metrics.classification_report(y_test_up, prediction))\n",
    "\n"
   ]
  },
  {
   "cell_type": "code",
   "execution_count": null,
   "id": "12707f61",
   "metadata": {},
   "outputs": [],
   "source": [
    "rf_prediction03=rf2.predict(X_test1)\n",
    "print(metrics.classification_report(y_test1, rf_prediction03))"
   ]
  },
  {
   "cell_type": "code",
   "execution_count": null,
   "id": "b7fc9a56",
   "metadata": {},
   "outputs": [],
   "source": [
    "prediction02=rf2.predict_proba(X_test1)\n",
    "#changing threshold value from 0.5 to 0.65\n",
    "prediction02 = prediction02[:,1]\n",
    "prediction = [0 if val<0.53 else 1 for val in prediction02]\n",
    "print(metrics.classification_report(y_test1, prediction))"
   ]
  },
  {
   "cell_type": "code",
   "execution_count": null,
   "id": "e0140bd6",
   "metadata": {},
   "outputs": [],
   "source": [
    "fpr,tpr,thresholds=metrics.roc_curve(y_test1, xgb_prediction03)\n",
    "\n",
    "def plot_roc_curve(fpr,tpr,label=None):\n",
    "    plt.plot(fpr,tpr,linewidth=2,label=label)\n",
    "    plt.plot([0,1],[0,1],'k--')\n",
    "    plt.axis([0,1,0,1])\n",
    "    plt.xlabel('False Positive Rate')\n",
    "    plt.ylabel('True Positive Rate')\n",
    "    \n",
    "plot_roc_curve(fpr,tpr)\n",
    "plt.show()"
   ]
  },
  {
   "cell_type": "code",
   "execution_count": null,
   "id": "f46623cb",
   "metadata": {},
   "outputs": [],
   "source": [
    "AB=xgb.predict(X)\n",
    "dp1=pd.DataFrame(AB)\n",
    "\n",
    "h = xgb.predict_proba(X)\n",
    "h = h[:,1]\n",
    "dp=pd.DataFrame(h)"
   ]
  },
  {
   "cell_type": "code",
   "execution_count": null,
   "id": "ace3d790",
   "metadata": {},
   "outputs": [],
   "source": [
    "# Generating final file:\n",
    "churn_df=pd.DataFrame()\n",
    "churn_df['Churn_Group'] = pd.cut(dp[0], bins=[-0.1,0.2,0.4,0.6,0.8,1], labels=[\"V Low\",\"Low\", \"Medium\", \"High\",\"V High\"])\n",
    "churn_df['Quantile_cut']= pd.cut(dp[0], bins=[-0.1,0.05,0.1,0.15,0.2,0.25,0.3,0.35,0.4,0.45,0.5,0.55,0.6,0.65,0.7,0.75,0.8,0.85,0.9,0.95,1],\n",
    "                      labels=['1','2','3','4','5','6','7','8','9','10','11','12','13','14','15','16','17','18','19','20'])"
   ]
  },
  {
   "cell_type": "code",
   "execution_count": null,
   "id": "57df84cf",
   "metadata": {},
   "outputs": [],
   "source": [
    "#Generating graphs\n",
    "s = churn_df['Quantile_cut'].value_counts().sort_index()\n",
    "plt.figure(figsize=(15,8))\n",
    "ax=s.plot.bar(width=.9) \n",
    "\n",
    "plt.xticks(rotation=0)\n",
    "for i, v in s.reset_index().iterrows():\n",
    "    ax.text(i, v.Quantile_cut + 0.2 , v.Quantile_cut, color='black')"
   ]
  },
  {
   "cell_type": "code",
   "execution_count": null,
   "id": "542adbd9",
   "metadata": {},
   "outputs": [],
   "source": [
    "#Feature Importance\n",
    "df_f = pd.DataFrame(xgb.feature_importances_, columns=[\"Importance\"])\n",
    "df_f['Labels'] = X.columns\n",
    "df_f.sort_values(\"Importance\", inplace=True, ascending=True)\n",
    "df_f.set_index('Labels').sort_values(by='Importance', ascending=True)[-20:].plot(kind='barh',figsize=(18,9), width=0.95)\n",
    "plt.xticks(fontsize=20)\n",
    "plt.yticks(fontsize=20)\n",
    "plt.grid(linewidth=.2, alpha=0.3, color='lightgrey')\n",
    "plt.tight_layout()\n",
    "plt.show()"
   ]
  },
  {
   "cell_type": "code",
   "execution_count": null,
   "id": "b9b595b0",
   "metadata": {},
   "outputs": [],
   "source": [
    "s = churn_df['Churn_Group'].value_counts().sort_index()\n",
    "\n",
    "plt.figure(figsize=(10,8))\n",
    "ax=s.plot.bar(width=.9) \n",
    "#ax = sns.countplot(x=\"class\", data=data)\n",
    "plt.xticks(rotation=0)\n",
    "for i, v in s.reset_index().iterrows():\n",
    "    ax.text(i, v.Churn_Group + 0.2 , v.Churn_Group, color='black')"
   ]
  },
  {
   "cell_type": "code",
   "execution_count": null,
   "id": "a2d6b48a",
   "metadata": {},
   "outputs": [],
   "source": [
    "# Save the Modle to file in the current working directory\n",
    "import pickle\n",
    "Pkl_Filename = \"Model_churn_30_days.pkl\"  \n",
    "\n",
    "with open(Pkl_Filename, 'wb') as file:  \n",
    "    pickle.dump(xgb, file)"
   ]
  },
  {
   "cell_type": "code",
   "execution_count": null,
   "id": "c423cda7",
   "metadata": {},
   "outputs": [],
   "source": [
    "X.info()"
   ]
  },
  {
   "cell_type": "code",
   "execution_count": null,
   "id": "c9b2dc5f",
   "metadata": {},
   "outputs": [],
   "source": []
  }
 ],
 "metadata": {
  "kernelspec": {
   "display_name": "Python 3 (ipykernel)",
   "language": "python",
   "name": "python3"
  },
  "language_info": {
   "codemirror_mode": {
    "name": "ipython",
    "version": 3
   },
   "file_extension": ".py",
   "mimetype": "text/x-python",
   "name": "python",
   "nbconvert_exporter": "python",
   "pygments_lexer": "ipython3",
   "version": "3.9.7"
  }
 },
 "nbformat": 4,
 "nbformat_minor": 5
}
